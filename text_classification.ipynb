{
 "cells": [
  {
   "cell_type": "code",
   "execution_count": 41,
   "source": [
    "import pickle\r\n",
    "\r\n",
    "import pandas as pd\r\n",
    "import numpy as np\r\n",
    "import matplotlib.pyplot as plt\r\n",
    "import seaborn as sns\r\n",
    "\r\n",
    "from sklearn.model_selection import train_test_split\r\n",
    "from sklearn.feature_extraction.text import TfidfVectorizer, CountVectorizer\r\n",
    "from sklearn.metrics import confusion_matrix\r\n",
    "from sklearn.metrics import classification_report\r\n",
    "from sklearn.metrics import accuracy_score"
   ],
   "outputs": [],
   "metadata": {}
  },
  {
   "cell_type": "code",
   "execution_count": 42,
   "source": [
    "import nlpaug\r\n",
    "import nlpaug.augmenter.word as naw\r\n",
    "import nltk\r\n",
    "nltk.download('averaged_perceptron_tagger')\r\n",
    "nltk.download('wordnet')"
   ],
   "outputs": [
    {
     "output_type": "stream",
     "name": "stderr",
     "text": [
      "[nltk_data] Downloading package averaged_perceptron_tagger to\n",
      "[nltk_data]     C:\\Users\\light\\AppData\\Roaming\\nltk_data...\n",
      "[nltk_data]   Package averaged_perceptron_tagger is already up-to-\n",
      "[nltk_data]       date!\n",
      "[nltk_data] Downloading package wordnet to\n",
      "[nltk_data]     C:\\Users\\light\\AppData\\Roaming\\nltk_data...\n",
      "[nltk_data]   Package wordnet is already up-to-date!\n"
     ]
    },
    {
     "output_type": "execute_result",
     "data": {
      "text/plain": [
       "True"
      ]
     },
     "metadata": {},
     "execution_count": 42
    }
   ],
   "metadata": {}
  },
  {
   "cell_type": "markdown",
   "source": [
    "# 1. importing data using pandas"
   ],
   "metadata": {}
  },
  {
   "cell_type": "code",
   "execution_count": 43,
   "source": [
    "job_titles_df = pd.read_csv(\"./resources/Job titles and industries.csv\")"
   ],
   "outputs": [],
   "metadata": {}
  },
  {
   "cell_type": "markdown",
   "source": [
    "# 2. Exploration Data Analysis"
   ],
   "metadata": {}
  },
  {
   "cell_type": "code",
   "execution_count": 44,
   "source": [
    "job_titles_df.info()"
   ],
   "outputs": [
    {
     "output_type": "stream",
     "name": "stdout",
     "text": [
      "<class 'pandas.core.frame.DataFrame'>\n",
      "RangeIndex: 8586 entries, 0 to 8585\n",
      "Data columns (total 2 columns):\n",
      " #   Column     Non-Null Count  Dtype \n",
      "---  ------     --------------  ----- \n",
      " 0   job title  8586 non-null   object\n",
      " 1   industry   8586 non-null   object\n",
      "dtypes: object(2)\n",
      "memory usage: 134.3+ KB\n"
     ]
    }
   ],
   "metadata": {}
  },
  {
   "cell_type": "code",
   "execution_count": 45,
   "source": [
    "print(f'Null values Count:\\n{job_titles_df.isna().sum()}')"
   ],
   "outputs": [
    {
     "output_type": "stream",
     "name": "stdout",
     "text": [
      "Null values Count:\n",
      "job title    0\n",
      "industry     0\n",
      "dtype: int64\n"
     ]
    }
   ],
   "metadata": {}
  },
  {
   "cell_type": "code",
   "execution_count": 46,
   "source": [
    "print(f\"Classes count:\\n{job_titles_df['industry'].value_counts()}\")"
   ],
   "outputs": [
    {
     "output_type": "stream",
     "name": "stdout",
     "text": [
      "Classes count:\n",
      "IT             4746\n",
      "Marketing      2031\n",
      "Education      1435\n",
      "Accountancy     374\n",
      "Name: industry, dtype: int64\n"
     ]
    }
   ],
   "metadata": {}
  },
  {
   "cell_type": "code",
   "execution_count": 47,
   "source": [
    "print(f\"Duplication in Data:\\n{job_titles_df['job title'].value_counts()}\")"
   ],
   "outputs": [
    {
     "output_type": "stream",
     "name": "stdout",
     "text": [
      "Duplication in Data:\n",
      "marketing executive                                           91\n",
      "php developer                                                 54\n",
      "trainee network technician                                    53\n",
      "software developer                                            53\n",
      "marketing manager                                             49\n",
      "                                                              ..\n",
      "digital designer - ux/ui                                       1\n",
      "digital marketing executive - restaurant chain                 1\n",
      "marketing and creative manager - salary circa £50k - poole     1\n",
      "data analyst, sql, ecommerce, central london - £45k            1\n",
      "creative copywriter (arabic/english)                           1\n",
      "Name: job title, Length: 3890, dtype: int64\n"
     ]
    }
   ],
   "metadata": {}
  },
  {
   "cell_type": "code",
   "execution_count": 48,
   "source": [
    "print('Words Count:',job_titles_df['job title'].apply(lambda line: len(line.split(' '))).count())"
   ],
   "outputs": [
    {
     "output_type": "stream",
     "name": "stdout",
     "text": [
      "Words Count: 8586\n"
     ]
    }
   ],
   "metadata": {}
  },
  {
   "cell_type": "markdown",
   "source": [
    "# 3. Data Preprocessing"
   ],
   "metadata": {}
  },
  {
   "cell_type": "markdown",
   "source": [
    "## 3.1. Data Cleaning "
   ],
   "metadata": {}
  },
  {
   "cell_type": "code",
   "execution_count": 49,
   "source": [
    "job_titles_df['job_title_f1'] = job_titles_df['job title'].str.replace(r'(-{0,1}[\\W\\D]£.*-{0,1})|(\\d+k)|(up to)|(ftse\\s\\d+)|(\\d{0,1}\\sx\\s\\d{0,1})|(\\d+\\smonth[s]{0,1})','',regex=True)\r\n",
    "job_titles_df['job_title_f1'] = job_titles_df['job_title_f1'].str.replace(r'(-\\s\\d+.\\d+)|([-(),/])','',regex=True)\r\n",
    "job_titles_df['job_title_f1'] = job_titles_df['job_title_f1'].str.replace(r'\\s+',' ',regex=True)"
   ],
   "outputs": [],
   "metadata": {}
  },
  {
   "cell_type": "code",
   "execution_count": 50,
   "source": [
    "job_titles_df['job_title_f1'] = job_titles_df['job_title_f1'].apply(lambda line: line.strip())"
   ],
   "outputs": [],
   "metadata": {}
  },
  {
   "cell_type": "code",
   "execution_count": 51,
   "source": [
    "dublicated_df = pd.DataFrame(job_titles_df[['job_title_f1','industry']].value_counts().rename_axis(['job_title_f1','industry']).reset_index(name='counts'))\r\n",
    "dublicated_df[dublicated_df['job_title_f1'].duplicated()]"
   ],
   "outputs": [
    {
     "output_type": "execute_result",
     "data": {
      "text/html": [
       "<div>\n",
       "<style scoped>\n",
       "    .dataframe tbody tr th:only-of-type {\n",
       "        vertical-align: middle;\n",
       "    }\n",
       "\n",
       "    .dataframe tbody tr th {\n",
       "        vertical-align: top;\n",
       "    }\n",
       "\n",
       "    .dataframe thead th {\n",
       "        text-align: right;\n",
       "    }\n",
       "</style>\n",
       "<table border=\"1\" class=\"dataframe\">\n",
       "  <thead>\n",
       "    <tr style=\"text-align: right;\">\n",
       "      <th></th>\n",
       "      <th>job_title_f1</th>\n",
       "      <th>industry</th>\n",
       "      <th>counts</th>\n",
       "    </tr>\n",
       "  </thead>\n",
       "  <tbody>\n",
       "    <tr>\n",
       "      <th>272</th>\n",
       "      <td>digital marketing specialist</td>\n",
       "      <td>Education</td>\n",
       "      <td>6</td>\n",
       "    </tr>\n",
       "    <tr>\n",
       "      <th>278</th>\n",
       "      <td>product manager</td>\n",
       "      <td>IT</td>\n",
       "      <td>6</td>\n",
       "    </tr>\n",
       "    <tr>\n",
       "      <th>280</th>\n",
       "      <td>marketing specialist</td>\n",
       "      <td>Education</td>\n",
       "      <td>6</td>\n",
       "    </tr>\n",
       "    <tr>\n",
       "      <th>317</th>\n",
       "      <td>accountant</td>\n",
       "      <td>Marketing</td>\n",
       "      <td>5</td>\n",
       "    </tr>\n",
       "    <tr>\n",
       "      <th>509</th>\n",
       "      <td>data analyst</td>\n",
       "      <td>Marketing</td>\n",
       "      <td>4</td>\n",
       "    </tr>\n",
       "    <tr>\n",
       "      <th>...</th>\n",
       "      <td>...</td>\n",
       "      <td>...</td>\n",
       "      <td>...</td>\n",
       "    </tr>\n",
       "    <tr>\n",
       "      <th>3510</th>\n",
       "      <td>frontend developer</td>\n",
       "      <td>Education</td>\n",
       "      <td>1</td>\n",
       "    </tr>\n",
       "    <tr>\n",
       "      <th>3585</th>\n",
       "      <td>fullstack developer</td>\n",
       "      <td>Education</td>\n",
       "      <td>1</td>\n",
       "    </tr>\n",
       "    <tr>\n",
       "      <th>3683</th>\n",
       "      <td>finance assistant</td>\n",
       "      <td>Education</td>\n",
       "      <td>1</td>\n",
       "    </tr>\n",
       "    <tr>\n",
       "      <th>3779</th>\n",
       "      <td>hr specialist</td>\n",
       "      <td>Education</td>\n",
       "      <td>1</td>\n",
       "    </tr>\n",
       "    <tr>\n",
       "      <th>3843</th>\n",
       "      <td>graduate analyst</td>\n",
       "      <td>Marketing</td>\n",
       "      <td>1</td>\n",
       "    </tr>\n",
       "  </tbody>\n",
       "</table>\n",
       "<p>81 rows × 3 columns</p>\n",
       "</div>"
      ],
      "text/plain": [
       "                      job_title_f1   industry  counts\n",
       "272   digital marketing specialist  Education       6\n",
       "278                product manager         IT       6\n",
       "280           marketing specialist  Education       6\n",
       "317                     accountant  Marketing       5\n",
       "509                   data analyst  Marketing       4\n",
       "...                            ...        ...     ...\n",
       "3510            frontend developer  Education       1\n",
       "3585           fullstack developer  Education       1\n",
       "3683             finance assistant  Education       1\n",
       "3779                 hr specialist  Education       1\n",
       "3843              graduate analyst  Marketing       1\n",
       "\n",
       "[81 rows x 3 columns]"
      ]
     },
     "metadata": {},
     "execution_count": 51
    }
   ],
   "metadata": {}
  },
  {
   "cell_type": "markdown",
   "source": [
    "## 3.2. Wrong Label Correction "
   ],
   "metadata": {}
  },
  {
   "cell_type": "code",
   "execution_count": 52,
   "source": [
    "specialization_drop_list = ['admin assistant','receptionist','graduate','sales agent','graduate analyst','pricing analyst','sales executive','executive secretary','sales manager','secretary','administrator','administrative assistant','assistant manager','call center agent','hr specialist']\r\n",
    "job_titles_df.loc[job_titles_df['job_title_f1'].isin(specialization_drop_list)]=np.nan\r\n",
    "job_titles_df.dropna(inplace=True)"
   ],
   "outputs": [],
   "metadata": {}
  },
  {
   "cell_type": "code",
   "execution_count": 53,
   "source": [
    "# ----------------------------------------Marketing--------------------------------------------\r\n",
    "job_titles_df.loc[job_titles_df['job_title_f1']=='marketing specialist','industry']='Marketing'\r\n",
    "job_titles_df.loc[job_titles_df['job_title_f1']=='digital marketing specialist','industry']='Marketing'\r\n",
    "job_titles_df.loc[job_titles_df['job_title_f1']=='graphic designer','industry']='Marketing'\r\n",
    "job_titles_df.loc[job_titles_df['job_title_f1']=='marketing manager','industry']='Marketing'\r\n",
    "job_titles_df.loc[job_titles_df['job_title_f1']=='account manager','industry']='Marketing'\r\n",
    "job_titles_df.loc[job_titles_df['job_title_f1']=='sales representative','industry']='Marketing'\r\n",
    "job_titles_df.loc[job_titles_df['job_title_f1']=='customer service representative','industry']='Marketing'\r\n",
    "job_titles_df.loc[job_titles_df['job_title_f1']=='customer service specialist','industry']='Marketing'\r\n",
    "job_titles_df.loc[job_titles_df['job_title_f1']=='business development specialist','industry']='Marketing'\r\n",
    "job_titles_df.loc[job_titles_df['job_title_f1']=='digital product manager','industry']='Marketing'\r\n",
    "job_titles_df.loc[job_titles_df['job_title_f1']=='senior content executive','industry']='Marketing'\r\n",
    "job_titles_df.loc[job_titles_df['job_title_f1']=='senior account executive','industry']='Marketing'\r\n",
    "job_titles_df.loc[job_titles_df['job_title_f1']=='senior digital analyst','industry']='Marketing'\r\n",
    "job_titles_df.loc[job_titles_df['job_title_f1']=='digital data analyst','industry']='Marketing' \r\n",
    "job_titles_df.loc[job_titles_df['job_title_f1']=='digital marketing executive','industry']='Marketing'\r\n",
    "job_titles_df.loc[job_titles_df['job_title_f1']=='digital performance analyst','industry']='Marketing'\r\n",
    "job_titles_df.loc[job_titles_df['job_title_f1']=='digital project manager','industry']='Marketing'\r\n",
    "job_titles_df.loc[job_titles_df['job_title_f1']=='junior graphic designer','industry']='Marketing'\r\n",
    "job_titles_df.loc[job_titles_df['job_title_f1']=='marketing & social media specialist','industry']='Marketing'\r\n",
    "job_titles_df.loc[job_titles_df['job_title_f1']=='marketing executive','industry']='Marketing'\r\n",
    "job_titles_df.loc[job_titles_df['job_title_f1']=='analytics manager','industry']='Marketing'\r\n",
    "job_titles_df.loc[job_titles_df['job_title_f1']=='lead digital analyst','industry']='Marketing'\r\n",
    "job_titles_df.loc[job_titles_df['job_title_f1']=='lead digital analyst','industry']='Marketing'\r\n",
    "job_titles_df.loc[job_titles_df['job_title_f1']=='design manager','industry']='Marketing'\r\n",
    "job_titles_df.loc[job_titles_df['job_title_f1']=='telesales representative','industry']='Marketing'\r\n",
    "job_titles_df.loc[job_titles_df['job_title_f1']=='telesales agent','industry']='Marketing'\r\n",
    "job_titles_df.loc[job_titles_df['job_title_f1']=='photographer','industry']='Marketing'\r\n",
    "job_titles_df.loc[job_titles_df['job_title_f1']=='social media specialist','industry']='Marketing'\r\n",
    "job_titles_df.loc[job_titles_df['job_title_f1']=='ux designer','industry']='Marketing'\r\n",
    "job_titles_df.loc[job_titles_df['job_title_f1']=='project manager','industry']='Marketing'\r\n",
    "job_titles_df.loc[job_titles_df['job_title_f1']=='project administrator','industry']='Marketing'\r\n",
    "job_titles_df.loc[job_titles_df['job_title_f1']=='product manager','industry']='Marketing'\r\n",
    "job_titles_df.loc[job_titles_df['job_title_f1']=='key account manager','industry']='Marketing'\r\n",
    "job_titles_df.loc[job_titles_df['job_title_f1']=='business development manager','industry']='Marketing'\r\n",
    "job_titles_df.loc[job_titles_df['job_title_f1']=='business development executive','industry']='Marketing'\r\n",
    "\r\n",
    "\r\n",
    "# ----------------------------------------IT--------------------------------------------\r\n",
    "job_titles_df.loc[job_titles_df['job_title_f1']=='frontend developer','industry']='IT'\r\n",
    "job_titles_df.loc[job_titles_df['job_title_f1']=='fullstack developer','industry']='IT'\r\n",
    "job_titles_df.loc[job_titles_df['job_title_f1']=='backend developer','industry']='IT'\r\n",
    "job_titles_df.loc[job_titles_df['job_title_f1']=='php web developer','industry']='IT'\r\n",
    "job_titles_df.loc[job_titles_df['job_title_f1']=='php web developer','industry']='IT'\r\n",
    "job_titles_df.loc[job_titles_df['job_title_f1']=='data analyst','industry']='IT'\r\n",
    "job_titles_df.loc[job_titles_df['job_title_f1']=='data scientist','industry']='IT'\r\n",
    "job_titles_df.loc[job_titles_df['job_title_f1']=='web designer','industry']='IT'\r\n",
    "job_titles_df.loc[job_titles_df['job_title_f1']=='ios developer','industry']='IT'\r\n",
    "job_titles_df.loc[job_titles_df['job_title_f1']=='php developer','industry']='IT'\r\n",
    "job_titles_df.loc[job_titles_df['job_title_f1']=='senior php developer','industry']='IT'\r\n",
    "job_titles_df.loc[job_titles_df['job_title_f1']=='senior it specialist','industry']='IT'\r\n",
    "job_titles_df.loc[job_titles_df['job_title_f1']=='senior analyst','industry']='IT'\r\n",
    "job_titles_df.loc[job_titles_df['job_title_f1']=='senior full stack developer','industry']='IT'\r\n",
    "job_titles_df.loc[job_titles_df['job_title_f1']=='senior ios developer','industry']='IT'\r\n",
    "job_titles_df.loc[job_titles_df['job_title_f1']=='senior data analyst','industry']='IT'\r\n",
    "job_titles_df.loc[job_titles_df['job_title_f1']=='crm manager','industry']='IT'\r\n",
    "job_titles_df.loc[job_titles_df['job_title_f1']=='analytics manager','industry']='IT'\r\n",
    "job_titles_df.loc[job_titles_df['job_title_f1']=='android developer','industry']='IT'\r\n",
    "job_titles_df.loc[job_titles_df['job_title_f1']=='client onboarding support','industry']='IT'\r\n",
    "job_titles_df.loc[job_titles_df['job_title_f1']=='bi analyst','industry']='IT'\r\n",
    "job_titles_df.loc[job_titles_df['job_title_f1']=='insights & analytics manager','industry']='IT'\r\n",
    "job_titles_df.loc[job_titles_df['job_title_f1']=='front-end developer','industry']='IT'\r\n",
    "job_titles_df.loc[job_titles_df['job_title_f1']=='full-stack developer','industry']='IT'\r\n",
    "job_titles_df.loc[job_titles_df['job_title_f1']=='technical support engineer','industry']='IT'\r\n",
    "job_titles_df.loc[job_titles_df['job_title_f1']=='software developer','industry']='IT'\r\n",
    "job_titles_df.loc[job_titles_df['job_title_f1']=='project coordinator','industry']='IT'\r\n",
    "\r\n",
    "\r\n",
    "# ----------------------------------------Accountancy--------------------------------------------\r\n",
    "job_titles_df.loc[job_titles_df['job_title_f1']=='accountant','industry']='Accountancy'\r\n",
    "job_titles_df.loc[job_titles_df['job_title_f1']=='commercial analyst','industry']='Accountancy'\r\n",
    "job_titles_df.loc[job_titles_df['job_title_f1']=='finance assistant','industry']='Accountancy'\r\n",
    "\r\n",
    "# ----------------------------------------Education--------------------------------------------\r\n",
    "job_titles_df.loc[job_titles_df['job_title_f1']=='it trainer','industry']='Education'"
   ],
   "outputs": [],
   "metadata": {}
  },
  {
   "cell_type": "code",
   "execution_count": 54,
   "source": [
    "job_titles_df.to_csv('./resources/2nd_stage_filtration.csv',index=False)"
   ],
   "outputs": [],
   "metadata": {}
  },
  {
   "cell_type": "markdown",
   "source": [
    "# 4. Spliting the data\r\n",
    "### Splitting the data befor Data augmatation in order not to fit hand made features"
   ],
   "metadata": {}
  },
  {
   "cell_type": "code",
   "execution_count": 55,
   "source": [
    "job_titles_df.drop_duplicates(inplace=True)"
   ],
   "outputs": [],
   "metadata": {}
  },
  {
   "cell_type": "code",
   "execution_count": 56,
   "source": [
    "train_x, val_x, train_y, val_y = train_test_split(job_titles_df['job_title_f1'],job_titles_df['industry'],test_size=0.1,stratify=job_titles_df['industry'],random_state=42)\r\n",
    "train_x, test_x, train_y, test_y = train_test_split(train_x,train_y,test_size=0.1,stratify=train_y,random_state=42)"
   ],
   "outputs": [],
   "metadata": {}
  },
  {
   "cell_type": "markdown",
   "source": [
    "# 5. Feature Engineering"
   ],
   "metadata": {}
  },
  {
   "cell_type": "code",
   "execution_count": 57,
   "source": [
    "def transform_text(vectorizer):\r\n",
    "    train_x_transformed = vectorizer.transform(train_x)\r\n",
    "    val_x_transformed = vectorizer.transform(val_x)\r\n",
    "    test_x_transformed = vectorizer.transform(test_x)\r\n",
    "    return train_x_transformed, val_x_transformed, test_x_transformed"
   ],
   "outputs": [],
   "metadata": {}
  },
  {
   "cell_type": "markdown",
   "source": [
    "## 5.1. Data Augmantation"
   ],
   "metadata": {}
  },
  {
   "cell_type": "code",
   "execution_count": 58,
   "source": [
    "aug = naw.SynonymAug(aug_src='wordnet',aug_max=2)\r\n",
    "augmanted_data = pd.DataFrame(job_titles_df[job_titles_df['industry']=='Accountancy']['job_title_f1'].apply(lambda line: aug.augment(line,n=1)))\r\n",
    "augmanted_data['industry'] = 'Accountancy'\r\n",
    "train_x = pd.concat([train_x,augmanted_data['job_title_f1']],axis=0)\r\n",
    "train_y = pd.concat([train_y,augmanted_data['industry']],axis=0)"
   ],
   "outputs": [],
   "metadata": {}
  },
  {
   "cell_type": "markdown",
   "source": [
    "## 5.2. Vectorize the Data\r\n",
    "### **Note:** Tfidftransformer you will systematically compute word counts using CountVectorizer and then compute the Inverse Document Frequency (IDF) values and only then compute the Tf-idf scores for each word"
   ],
   "metadata": {}
  },
  {
   "cell_type": "code",
   "execution_count": 59,
   "source": [
    "tfidf_vect = TfidfVectorizer(analyzer='word', token_pattern=r'\\w+', max_features=5000)\r\n",
    "tfidf_vect.fit(job_titles_df['job_title_f1'])"
   ],
   "outputs": [
    {
     "output_type": "execute_result",
     "data": {
      "text/plain": [
       "TfidfVectorizer(max_features=5000, token_pattern='\\\\w+')"
      ]
     },
     "metadata": {},
     "execution_count": 59
    }
   ],
   "metadata": {}
  },
  {
   "cell_type": "markdown",
   "source": [
    "# 6. Buliding & Evaluating the model"
   ],
   "metadata": {}
  },
  {
   "cell_type": "code",
   "execution_count": 68,
   "source": [
    "classes_list = job_titles_df['industry'].unique().tolist()\r\n",
    "\r\n",
    "def evluate_model(classifier, feature_vector_train, label, feature_vector_valid, feature_vector_valid_label,classes_list):\r\n",
    "    classifier.fit(feature_vector_train, label)\r\n",
    "    predictions = classifier.predict(feature_vector_valid)\r\n",
    "    print(classification_report(feature_vector_valid_label,predictions))\r\n",
    "    print('Accuracy:',accuracy_score(feature_vector_valid_label,predictions))\r\n",
    "    return confusion_matrix(feature_vector_valid_label, predictions,labels=classes_list),predictions\r\n",
    "\r\n",
    "def print_confusion_matrix(conf_mat,classes_list):\r\n",
    "    fig = plt.figure(figsize=[25,15])\r\n",
    "    ax = fig.gca()\r\n",
    "    sns.heatmap(conf_mat,xticklabels=classes_list,yticklabels=classes_list,annot=True,cmap='coolwarm',fmt='g',ax= ax)"
   ],
   "outputs": [],
   "metadata": {}
  },
  {
   "cell_type": "markdown",
   "source": [
    "## 6.2. SVM model "
   ],
   "metadata": {}
  },
  {
   "cell_type": "code",
   "execution_count": 69,
   "source": [
    "from sklearn.svm import SVC\r\n",
    "train_x_count, val_x_count, test_x_count = transform_text(tfidf_vect)\r\n",
    "conf_mat,p_dev = evluate_model(SVC(C=1,gamma=2,class_weight={\"Accountancy\":2,\"IT\":3,\"Education\":1,\"Marketing\":3}),train_x_count,train_y,val_x_count,val_y,classes_list)"
   ],
   "outputs": [
    {
     "output_type": "stream",
     "name": "stdout",
     "text": [
      "              precision    recall  f1-score   support\n",
      "\n",
      " Accountancy       0.89      0.96      0.93        26\n",
      "   Education       0.96      0.87      0.92        93\n",
      "          IT       0.91      0.95      0.93       152\n",
      "   Marketing       0.90      0.89      0.89       117\n",
      "\n",
      "    accuracy                           0.91       388\n",
      "   macro avg       0.91      0.92      0.92       388\n",
      "weighted avg       0.92      0.91      0.91       388\n",
      "\n",
      "Accuracy: 0.9149484536082474\n"
     ]
    }
   ],
   "metadata": {}
  },
  {
   "cell_type": "code",
   "execution_count": 70,
   "source": [
    "print_confusion_matrix(conf_mat,classes_list)"
   ],
   "outputs": [
    {
     "output_type": "display_data",
     "data": {
      "image/png": "[encoded data removed]",
      "text/plain": [
       "<Figure size 1800x1080 with 2 Axes>"
      ]
     },
     "metadata": {
      "needs_background": "light"
     }
    }
   ],
   "metadata": {}
  },
  {
   "cell_type": "code",
   "execution_count": 71,
   "source": [
    "svc = SVC(C=1,gamma=2,probability=True,class_weight={\"Accountancy\":2,\"IT\":3,\"Education\":1,\"Marketing\":3}).fit(train_x_count,train_y)\r\n",
    "predict_y = svc.predict(test_x_count)\r\n",
    "print(classification_report(test_y,predict_y))\r\n",
    "print(\"Accuracy:\",accuracy_score(test_y,predict_y))"
   ],
   "outputs": [
    {
     "output_type": "stream",
     "name": "stdout",
     "text": [
      "              precision    recall  f1-score   support\n",
      "\n",
      " Accountancy       1.00      0.96      0.98        24\n",
      "   Education       0.97      0.83      0.90        84\n",
      "          IT       0.87      0.92      0.90       136\n",
      "   Marketing       0.84      0.89      0.86       105\n",
      "\n",
      "    accuracy                           0.89       349\n",
      "   macro avg       0.92      0.90      0.91       349\n",
      "weighted avg       0.90      0.89      0.89       349\n",
      "\n",
      "Accuracy: 0.8911174785100286\n"
     ]
    }
   ],
   "metadata": {}
  },
  {
   "cell_type": "code",
   "execution_count": 73,
   "source": [
    "p_dev[val_y != p_dev]"
   ],
   "outputs": [
    {
     "output_type": "execute_result",
     "data": {
      "text/plain": [
       "array(['IT', 'Marketing', 'IT', 'Marketing', 'IT', 'IT', 'IT',\n",
       "       'Education', 'IT', 'IT', 'IT', 'IT', 'Education', 'Marketing',\n",
       "       'IT', 'Marketing', 'Accountancy', 'Marketing', 'Accountancy', 'IT',\n",
       "       'Marketing', 'IT', 'Marketing', 'IT', 'Marketing', 'IT', 'IT',\n",
       "       'Marketing', 'Marketing', 'Accountancy', 'Marketing', 'Education',\n",
       "       'Marketing'], dtype=object)"
      ]
     },
     "metadata": {},
     "execution_count": 73
    }
   ],
   "metadata": {}
  },
  {
   "cell_type": "code",
   "execution_count": 75,
   "source": [
    "val_x[val_y != p_dev]"
   ],
   "outputs": [
    {
     "output_type": "execute_result",
     "data": {
      "text/plain": [
       "7464                                  forecasting analyst\n",
       "609           senior cro consultant digital agency london\n",
       "5139                         project manager multichannel\n",
       "6244                        education research specialist\n",
       "6521                                     exam invigilator\n",
       "6121                              technical administrator\n",
       "8553                                   business developer\n",
       "2145                                         is assistant\n",
       "4439                                          cro analyst\n",
       "4354              artificial intelligence product manager\n",
       "7792           professeur de français maternelle primaire\n",
       "7641                                         photographer\n",
       "8200                      production execution supervisor\n",
       "7872                          customer success specialist\n",
       "4507                                      technical buyer\n",
       "5621    client development & partner relationship manager\n",
       "8581                                     data entry clerk\n",
       "4230                 business development executive leeds\n",
       "7684                                        ap accountant\n",
       "7587                                        manual tester\n",
       "7721                                arabic content writer\n",
       "5458           partnerships payments & operations manager\n",
       "7827                             sales representative b2b\n",
       "4538                                              analyst\n",
       "1497                             software sales executive\n",
       "8525                     web technical support specialist\n",
       "6387                educational psychologists surrey wide\n",
       "1218             web wordpress developer & seo strategist\n",
       "927                              digital product designer\n",
       "7009    trainee recruitment consultant recruitment con...\n",
       "6652    program manager executive mba program europe l...\n",
       "6173                         graduate editorial assistant\n",
       "7780               senior customer service representative\n",
       "Name: job_title_f1, dtype: object"
      ]
     },
     "metadata": {},
     "execution_count": 75
    }
   ],
   "metadata": {}
  },
  {
   "cell_type": "code",
   "execution_count": 74,
   "source": [
    "val_y[val_y != p_dev]"
   ],
   "outputs": [
    {
     "output_type": "execute_result",
     "data": {
      "text/plain": [
       "7464    Accountancy\n",
       "609              IT\n",
       "5139      Marketing\n",
       "6244      Education\n",
       "6521      Education\n",
       "6121      Marketing\n",
       "8553      Marketing\n",
       "2145             IT\n",
       "4439      Marketing\n",
       "4354      Marketing\n",
       "7792      Education\n",
       "7641      Marketing\n",
       "8200      Marketing\n",
       "7872      Education\n",
       "4507      Marketing\n",
       "5621             IT\n",
       "8581      Marketing\n",
       "4230             IT\n",
       "7684      Education\n",
       "7587      Education\n",
       "7721      Education\n",
       "5458      Marketing\n",
       "7827      Education\n",
       "4538      Marketing\n",
       "1497             IT\n",
       "8525      Marketing\n",
       "6387      Education\n",
       "1218             IT\n",
       "927              IT\n",
       "7009      Education\n",
       "6652      Education\n",
       "6173      Marketing\n",
       "7780      Education\n",
       "Name: industry, dtype: object"
      ]
     },
     "metadata": {},
     "execution_count": 74
    }
   ],
   "metadata": {}
  },
  {
   "cell_type": "markdown",
   "source": [
    "# 7. Saving the Final Model\r\n",
    "* ## Saving the Model to pickle file\r\n",
    "* ## Saving the Vectorizer to pickle file"
   ],
   "metadata": {}
  },
  {
   "cell_type": "code",
   "execution_count": 64,
   "source": [
    "pickle.dump(svc, open('./resources/Model/final_prediction.pickle', 'wb'))"
   ],
   "outputs": [],
   "metadata": {}
  },
  {
   "cell_type": "code",
   "execution_count": 65,
   "source": [
    "pickle.dump(tfidf_vect, open('./resources/Vectorizer/final_vectorizer.pickle', 'wb'))"
   ],
   "outputs": [],
   "metadata": {}
  },
  {
   "cell_type": "markdown",
   "source": [
    "# 8. Questions Answers:\r\n",
    "* ##\tWhich techniques you have used while cleaning the data if you have cleaned it?\r\n",
    "### I used regex over the regular methods as it’s more powerful than the other techniques to clean “job title” column from undesired words/characters mainly to remove the salaries, I also decided to keep company names taking in concertation I only have around 8000 words in the dataset also it may contain words related to the industry which will make the model even better, I also notes that we have same job title for different categories EG. IOS developer wrongly labeled as Marketing, I fixed this job titles to fall only in one category, some jobs belong to classes doesn’t exist in the data I thought dropping them will be the best way to handle them.\r\n",
    "*\t## Why have you chosen this classifier?\r\n",
    "###\tAt first, I thought about 4 models that would fit this problem, which are Support Vector Machine, Multinomial Naïve Bayes, Logistic Regression and Deep Neural Network, but I excluded the Naïve Bayes because this classifier assumes the words in the text are independent and has no relation between each other which is not the case in the data, also excluded the Logistic regression classifier as it’s doesn’t contain hyper-parameter making it less flexible in case of imbalanced data, while excluding DNN due to the size of the data, I found that support vector machine will be good model for our case due to:\r\n",
    "  1. ### it doesn’t assume that each word is independent meaning it tries to find the relations between the words in the same line\r\n",
    "  2. ### Contain only two hyper parameter “C and Gamma” makes it easer to tune also flexible with imbalanced data\r\n",
    "*\t## How do you deal with (Imbalance learning)?\r\n",
    "###\tImbalance learning can be treated by many ways but, I used class weight to give each class appropriate weight, I also used text data augmentation by replacing 2 randomly selected words by its Synonym done this only for the minor class to because I already have enough word in the 3 major classes, text augmentation greatly improved the precision, recall and f1 scores for the minor class, I also notes the existence of duplicates in the data within the same category but decided to keep them in our case as the purpose of the training set is to accumulate real-life experience, which we will not achieve if you lose the frequency information.\r\n",
    "* ##\tHow can you extend the model to have better performance?\r\n",
    "###\tThe Marketing and the IT classes suffer from over lapping in the job title or to be specific lots of the words used to describe IT jobs has similar jobs containing the same word so traying to increase the number of words describing these jobs (translate the job title to different language then translate it back may help) may improve the performance, also if we can get enough data, we can use RNN or LSTM deep learning models, better tuning for the hyper parameter\r\n",
    "* ##\tHow do you evaluate your model?\r\n",
    "###\tI evaluated my model through confusion matrix, precision, recall, f1 and accuracy scores, can’t relay only on accuracy when handling imbalanced data so measuring precision, recall and f1 score gives an indication and help me stop the model from predicting the major class to any input, confusion matrix helps in detecting over lapping between classes. \r\n",
    "* ##\tWhat are the limitations of your methodology or where does your approach fail?\r\n",
    "###\tMy Methodology:\r\n",
    "1. ### can’t handle overlapping between classes (noise data) probably and this is already happen between Marketing and IT classes\r\n",
    "2. ### not suitable for large datasets as SVM not suited for large data\r\n",
    "3. ### Can also fail if the text has more words than the number of samples\r\n",
    "4. ### Don’t have general class so jobs like receptionist, and manager assistant get classified wrongly\r\n"
   ],
   "metadata": {}
  }
 ],
 "metadata": {
  "orig_nbformat": 4,
  "language_info": {
   "name": "python",
   "version": "3.8.5",
   "mimetype": "text/x-python",
   "codemirror_mode": {
    "name": "ipython",
    "version": 3
   },
   "pygments_lexer": "ipython3",
   "nbconvert_exporter": "python",
   "file_extension": ".py"
  },
  "kernelspec": {
   "name": "python3",
   "display_name": "Python 3.8.5 64-bit ('base': conda)"
  },
  "interpreter": {
   "hash": "73e03da126b73bfff3642ec5261d56fa25c444ea595de51041687efaa60dda41"
  }
 },
 "nbformat": 4,
 "nbformat_minor": 2
}